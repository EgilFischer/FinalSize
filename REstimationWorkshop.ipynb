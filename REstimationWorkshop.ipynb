{
  "nbformat": 4,
  "nbformat_minor": 0,
  "metadata": {
    "colab": {
      "provenance": [],
      "authorship_tag": "ABX9TyMAsQtWqEhwayOwvd8WJ50Y",
      "include_colab_link": true
    },
    "kernelspec": {
      "name": "ir",
      "display_name": "R"
    },
    "language_info": {
      "name": "R"
    }
  },
  "cells": [
    {
      "cell_type": "markdown",
      "metadata": {
        "id": "view-in-github",
        "colab_type": "text"
      },
      "source": [
        "<a href=\"https://colab.research.google.com/github/EgilFischer/FinalSizeEstimator/blob/main/REstimationWorkshop.ipynb\" target=\"_parent\"><img src=\"https://colab.research.google.com/assets/colab-badge.svg\" alt=\"Open In Colab\"/></a>"
      ]
    },
    {
      "cell_type": "markdown",
      "source": [
        "# Estimation of the reproduction number\n"
      ],
      "metadata": {
        "id": "etkL6dSP5ciM"
      }
    },
    {
      "cell_type": "markdown",
      "source": [
        "## install and load packages"
      ],
      "metadata": {
        "id": "yHz2wyUc5ows"
      }
    },
    {
      "cell_type": "code",
      "execution_count": 37,
      "metadata": {
        "colab": {
          "base_uri": "https://localhost:8080/"
        },
        "id": "Ry_3qAcR5FUd",
        "outputId": "0f69a925-d7e2-4de9-912c-bba25bc588fe"
      },
      "outputs": [
        {
          "output_type": "stream",
          "name": "stderr",
          "text": [
            "Installing package into ‘/usr/local/lib/R/site-library’\n",
            "(as ‘lib’ is unspecified)\n",
            "\n",
            "Downloading GitHub repo EgilFischer/FinalSizeEstimator@HEAD\n",
            "\n"
          ]
        },
        {
          "output_type": "stream",
          "name": "stdout",
          "text": [
            "\u001b[36m──\u001b[39m \u001b[36mR CMD build\u001b[39m \u001b[36m─────────────────────────────────────────────────────────────────\u001b[39m\n",
            "* checking for file ‘/tmp/RtmpFkKvId/remotesae450cc19e/EgilFischer-FinalSizeEstimator-d008e33/DESCRIPTION’ ... OK\n",
            "* preparing ‘FinalSizeEstimator’:\n",
            "* checking DESCRIPTION meta-information ... OK\n",
            "* checking for LF line-endings in source and make files and shell scripts\n",
            "* checking for empty or unneeded directories\n",
            "  NB: this package now depends on R (>= 3.5.0)\n",
            "  WARNING: Added dependency on R >= 3.5.0 because serialized objects in\n",
            "  serialize/load version 3 cannot be read in older versions of R.\n",
            "  File(s) containing such objects:\n",
            "    ‘FinalSizeEstimator/data/HPAIboth.rda’\n",
            "    ‘FinalSizeEstimator/data/HPAIcloaca.rda’\n",
            "    ‘FinalSizeEstimator/data/HPAIfs.rda’\n",
            "    ‘FinalSizeEstimator/data/HPAItrachea.rda’\n",
            "* building ‘FinalSizeEstimator_0.1.0.tar.gz’\n",
            "\n"
          ]
        },
        {
          "output_type": "stream",
          "name": "stderr",
          "text": [
            "Installing package into ‘/usr/local/lib/R/site-library’\n",
            "(as ‘lib’ is unspecified)\n",
            "\n",
            "Warning message in i.p(...):\n",
            "“installation of package ‘/tmp/RtmpFkKvId/fileae1b536dd9/FinalSizeEstimator_0.1.0.tar.gz’ had non-zero exit status”\n"
          ]
        }
      ],
      "source": [
        "install.packages(\"devtools\")\n",
        "library(devtools)\n",
        "devtools::install_github(\"https://github.com/EgilFischer/FinalSizeEstimator.git\")\n",
        "library(FinalSizeEstimator)"
      ]
    },
    {
      "cell_type": "markdown",
      "source": [
        "## Estimation from the final size"
      ],
      "metadata": {
        "id": "cTvo4vqf6EM1"
      }
    },
    {
      "cell_type": "markdown",
      "source": [
        "In this first exercise we will have a look at the use of the final size distribution to estimate the reproduction number. The final size distribution is determined by the initial values and the reproduction number. We use the package FinalSizeEstimator from https://github.com/EgilFischer/FinalSizeEstimator.git which was installed above.\n",
        "\n",
        "First let's get an idea of the effect of R and the inital values on the final size distribution.\n",
        "1. Try a few different values of R. What do you see?\n",
        "2. Try some different values of i0. What do you see?"
      ],
      "metadata": {
        "id": "K5ZajMje9hQF"
      }
    },
    {
      "cell_type": "code",
      "source": [
        "R0 = 3;\n",
        "i0 = 1;\n",
        "\n",
        "barplot(distFS(R = R0, s0in = 100-i0, i0in =i0))"
      ],
      "metadata": {
        "colab": {
          "base_uri": "https://localhost:8080/",
          "height": 437
        },
        "id": "35O6Ly-X8ItR",
        "outputId": "e8356f1b-10a9-4717-a9ac-dfc903df098b"
      },
      "execution_count": null,
      "outputs": [
        {
          "output_type": "display_data",
          "data": {
            "text/plain": [
              "plot without title"
            ],
            "image/png": "[encoded data removed]"
          },
          "metadata": {
            "image/png": {
              "width": 420,
              "height": 420
            }
          }
        }
      ]
    },
    {
      "cell_type": "markdown",
      "source": [
        "The final size distribution can be used to estimate the reproduction number. The distribution is completely determined, so that we can exactly calculate the confidence interval and do hypothesis testing by determining the probability to find more extreme values.\n",
        "In the FinalSizeEstimator package this is implemented in the FinalSize function:\n",
        "\n",
        "point.est\t = point estimate of R \\\n",
        "ci.ll\t= confidence interval lower limit\\\n",
        "ci.ul\t= confidence interval lower upper\\\n",
        "pval.above1\t= p-value R > 1 \\\n",
        "pval.below1 = p-value R < 1\t\\\n",
        "pval.equal1 = p-value R = 1"
      ],
      "metadata": {
        "id": "62BZHiGA-6E-"
      }
    },
    {
      "cell_type": "code",
      "source": [
        "FinalSize(x = c(1,1),s0 = c(5,5),i0 = c(5,5), alpha = 0.05)"
      ],
      "metadata": {
        "colab": {
          "base_uri": "https://localhost:8080/",
          "height": 129
        },
        "id": "G1diFzfI_cWW",
        "outputId": "5802859a-71bf-49d9-aa90-c5a9aedf2a87"
      },
      "execution_count": null,
      "outputs": [
        {
          "output_type": "display_data",
          "data": {
            "text/html": [
              "<table class=\"dataframe\">\n",
              "<caption>A data.frame: 1 × 6</caption>\n",
              "<thead>\n",
              "\t<tr><th scope=col>point.est</th><th scope=col>ci.ll</th><th scope=col>ci.ul</th><th scope=col>pval.above1</th><th scope=col>pval.below1</th><th scope=col>pval.equal1</th></tr>\n",
              "\t<tr><th scope=col>&lt;dbl&gt;</th><th scope=col>&lt;dbl&gt;</th><th scope=col>&lt;dbl&gt;</th><th scope=col>&lt;dbl&gt;</th><th scope=col>&lt;dbl&gt;</th><th scope=col>&lt;dbl&gt;</th></tr>\n",
              "</thead>\n",
              "<tbody>\n",
              "\t<tr><td>0.3777923</td><td>0.04586614</td><td>1.767373</td><td>0.1634043</td><td>0.9316323</td><td>0.1522327</td></tr>\n",
              "</tbody>\n",
              "</table>\n"
            ],
            "text/markdown": "\nA data.frame: 1 × 6\n\n| point.est &lt;dbl&gt; | ci.ll &lt;dbl&gt; | ci.ul &lt;dbl&gt; | pval.above1 &lt;dbl&gt; | pval.below1 &lt;dbl&gt; | pval.equal1 &lt;dbl&gt; |\n|---|---|---|---|---|---|\n| 0.3777923 | 0.04586614 | 1.767373 | 0.1634043 | 0.9316323 | 0.1522327 |\n\n",
            "text/latex": "A data.frame: 1 × 6\n\\begin{tabular}{llllll}\n point.est & ci.ll & ci.ul & pval.above1 & pval.below1 & pval.equal1\\\\\n <dbl> & <dbl> & <dbl> & <dbl> & <dbl> & <dbl>\\\\\n\\hline\n\t 0.3777923 & 0.04586614 & 1.767373 & 0.1634043 & 0.9316323 & 0.1522327\\\\\n\\end{tabular}\n",
            "text/plain": [
              "  point.est ci.ll      ci.ul    pval.above1 pval.below1 pval.equal1\n",
              "1 0.3777923 0.04586614 1.767373 0.1634043   0.9316323   0.1522327  "
            ]
          },
          "metadata": {}
        }
      ]
    },
    {
      "cell_type": "markdown",
      "source": [
        "In the package data sets derived from a transmission experiment by [Van der Goot et al. 2005](https://www.pnas.org/doi/full/10.1073/pnas.0505098102).\n",
        "\n",
        "1. Read in the data sets"
      ],
      "metadata": {
        "id": "pXcNmxxlANKy"
      }
    },
    {
      "cell_type": "code",
      "source": [],
      "metadata": {
        "id": "sf3Yh_WjA2sF"
      },
      "execution_count": null,
      "outputs": []
    },
    {
      "cell_type": "markdown",
      "source": [
        "## Estimation from time-series"
      ],
      "metadata": {
        "id": "B9Ydw_mB6Mu5"
      }
    },
    {
      "cell_type": "markdown",
      "source": [
        "### Direct transmission"
      ],
      "metadata": {
        "id": "c47UDEYg6Rx3"
      }
    },
    {
      "cell_type": "markdown",
      "source": [
        "### Indirect transmission"
      ],
      "metadata": {
        "id": "3TLkNeXr6UUy"
      }
    }
  ]
}